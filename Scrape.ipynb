{
 "cells": [
  {
   "cell_type": "markdown",
   "metadata": {},
   "source": [
    "### # Topic modeling  ## US Presidents' State of the Union Addresses and Messages Data: http://www.presidency.ucsb.edu/sou.php Inspiration: https://www.exaptive.com/blog/topic-modeling-the-state-of-the-union"
   ]
  },
  {
   "cell_type": "code",
   "execution_count": 1,
   "metadata": {
    "collapsed": false
   },
   "outputs": [],
   "source": [
    "from bs4 import BeautifulSoup\n",
    "import urllib2\n",
    "import json\n",
    "import re\n",
    "url = \"http://www.presidency.ucsb.edu/sou.php\"\n",
    "handle=urllib2.urlopen(url);\n",
    "html_text=handle.read();\n",
    "soup=BeautifulSoup(html_text, \"html.parser\");\n",
    "soup\n",
    "anchors=soup.find_all(\"td\", class_=\"ver12\");"
   ]
  },
  {
   "cell_type": "code",
   "execution_count": 2,
   "metadata": {
    "collapsed": false
   },
   "outputs": [
    {
     "name": "stdout",
     "output_type": "stream",
     "text": [
      "\n",
      "NB: Nixon made some special messages. Roosevelt made two versions\n"
     ]
    }
   ],
   "source": [
    "#Get a dictionary {year: url}\n",
    "messages = {}\n",
    "for anch in soup.findAll('a'):\n",
    "    if anch.has_attr('href') and '.edu/ws/index.php' in anch[\"href\"] and anch.text.isdigit(): \n",
    "        if int(anch.text) in range(1935,2018):\n",
    "            messages[int(anch.text)]=anch[\"href\"]\n",
    "\n",
    "print \"\"\n",
    "print \"NB: Nixon made some special messages. Roosevelt made two versions\""
   ]
  },
  {
   "cell_type": "code",
   "execution_count": 3,
   "metadata": {
    "collapsed": false
   },
   "outputs": [],
   "source": [
    "# Scrape all messages to soups dictionary\n",
    "if 'soups' not in locals(): soups = {}\n",
    "for year,url in messages.iteritems(): #\"http://www.presidency.ucsb.edu/ws/index.php?pid=51634\"\n",
    "    if year in range(1945,2018) and year not in soups.keys():\n",
    "        handle=urllib2.urlopen(url);\n",
    "        html_text=handle.read()\n",
    "        html_text = re.sub(u'<br>|</?[up]>', \" \", html_text)\n",
    "        html_text = re.sub(u'<[a-z]{1,4}>[^a-zA-Z]*</[a-z]{1,4}>', \"\", html_text)\n",
    "        soups[year] = BeautifulSoup(html_text, \"html.parser\");"
   ]
  },
  {
   "cell_type": "code",
   "execution_count": 4,
   "metadata": {
    "collapsed": false
   },
   "outputs": [
    {
     "data": {
      "text/html": [
       "<div>\n",
       "<style>\n",
       "    .dataframe thead tr:only-child th {\n",
       "        text-align: right;\n",
       "    }\n",
       "\n",
       "    .dataframe thead th {\n",
       "        text-align: left;\n",
       "    }\n",
       "\n",
       "    .dataframe tbody tr th {\n",
       "        vertical-align: top;\n",
       "    }\n",
       "</style>\n",
       "<table border=\"1\" class=\"dataframe\">\n",
       "  <thead>\n",
       "    <tr style=\"text-align: right;\">\n",
       "      <th></th>\n",
       "      <th>Presidents</th>\n",
       "      <th>Text</th>\n",
       "    </tr>\n",
       "  </thead>\n",
       "  <tbody>\n",
       "    <tr>\n",
       "      <th>1945</th>\n",
       "      <td>Franklin D. Roosevelt</td>\n",
       "      <td>To the Congress: In considering the State of ...</td>\n",
       "    </tr>\n",
       "    <tr>\n",
       "      <th>1946</th>\n",
       "      <td>Harry S. Truman</td>\n",
       "      <td>[Released January 21, 1946. Dated January 14, ...</td>\n",
       "    </tr>\n",
       "    <tr>\n",
       "      <th>1947</th>\n",
       "      <td>Harry S. Truman</td>\n",
       "      <td>Mr. President, Mr. Speaker, Members of the Con...</td>\n",
       "    </tr>\n",
       "    <tr>\n",
       "      <th>1948</th>\n",
       "      <td>Harry S. Truman</td>\n",
       "      <td>Mr. President, Mr. Speaker, and Members of the...</td>\n",
       "    </tr>\n",
       "    <tr>\n",
       "      <th>1949</th>\n",
       "      <td>Harry S. Truman</td>\n",
       "      <td>Mr. President, Mr. Speaker, Members of the Con...</td>\n",
       "    </tr>\n",
       "  </tbody>\n",
       "</table>\n",
       "</div>"
      ],
      "text/plain": [
       "                 Presidents                                               Text\n",
       "1945  Franklin D. Roosevelt   To the Congress: In considering the State of ...\n",
       "1946        Harry S. Truman  [Released January 21, 1946. Dated January 14, ...\n",
       "1947        Harry S. Truman  Mr. President, Mr. Speaker, Members of the Con...\n",
       "1948        Harry S. Truman  Mr. President, Mr. Speaker, and Members of the...\n",
       "1949        Harry S. Truman  Mr. President, Mr. Speaker, Members of the Con..."
      ]
     },
     "execution_count": 4,
     "metadata": {},
     "output_type": "execute_result"
    }
   ],
   "source": [
    "# Create documents_raw list, presidents[year] and texts[year] dictionaries\n",
    "import pandas as pd\n",
    "documents_raw = list()\n",
    "presidents = {}\n",
    "texts = {}\n",
    "for year,soup in soups.iteritems():\n",
    "    span = soup.find_all(\"span\", class_=\"displaytext\");\n",
    "    text = span[0].text\n",
    "    titles = soup.find_all(\"title\")\n",
    "    title = titles[0].text\n",
    "    pres = title.split(\":\")[0]\n",
    "    presidents[year] = pres\n",
    "    texts[year] = text\n",
    "    documents_raw.append(text)\n",
    "    \n",
    "df_corpus = pd.DataFrame({'Presidents': presidents, 'Text': texts}) #'Year': soups.keys(), \n",
    "df_corpus.head()"
   ]
  },
  {
   "cell_type": "code",
   "execution_count": 5,
   "metadata": {
    "collapsed": false
   },
   "outputs": [],
   "source": [
    "#Dump documents_raw to file\n",
    "import pickle\n",
    "output = open('documents_raw.pkl', 'wb')\n",
    "pickle.dump(documents_raw, output)\n",
    "output.close()\n",
    "#Import as: \n",
    "#pkl_file = open('documents_raw.pkl', 'rb')\n",
    "#documents_raw = pickle.load(pkl_file)"
   ]
  },
  {
   "cell_type": "markdown",
   "metadata": {},
   "source": [
    "### Double check documents_raw \n",
    "* No < or > symbols anymore\n",
    "* All numbers followed by letters are for now ok to keep"
   ]
  },
  {
   "cell_type": "code",
   "execution_count": 35,
   "metadata": {
    "collapsed": false
   },
   "outputs": [
    {
     "name": "stdout",
     "output_type": "stream",
     "text": [
      "1 [u'98 (79th Con']\n",
      "2 [u'rch 31st. Th']\n",
      "3 [u'the 80th Con']\n",
      "4 [u'his 81st Con', u'the 80th Con', u'the 81st Con']\n",
      "5 [u'the 20th cen', u'the 20th cen', u'the 20th cen']\n",
      "6 [u'his 82d Cong', u'the 82d Cong']\n",
      "9 [u'pril 1st, an', u'ary 14th.  H']\n",
      "10 [u'the 84th Con', u'une 30th. Fo', u'the 83rd Con', u'the 84th Con', u'the 20th of ', u'ary 27th det', u'the 83rd Con', u'the 83rd Con', u'the 83rd Con']\n",
      "11 [u'pril 1st.  I']\n",
      "12 [u'the 85th Con', u'the 85th Con']\n",
      "13 [u'the 85th Con', u'the 85th Con']\n",
      "14 [u'the 86th Con', u'he 170th yea']\n",
      "15 [u'the 86th Con']\n",
      "16 [u'our 49th and']\n",
      "17 [u'the 87th Con', u'he 100th ann']\n",
      "18 [u'the 88th Con', u'he 175th yea', u' the 5th gra']\n",
      "20 [u'the 20th cen']\n",
      "21 [u'the 89th Con']\n",
      "22 [u'The 88th and', u'the 89th Con', u'the 90th Con', u'the 90th Con', u'the 90th Con', u'The 89th Con', u'the 90th Con']\n",
      "23 [u'nks 15th amo', u' our 8th yea', u'uary 1st, I ', u\"'s 200th bir\", u'ur 200th bir']\n",
      "24 [u'nks 15th amo', u'the 13th, 14', u'and 15th ame']\n",
      "25 [u'ts 200th bir', u'ur 200th ann']\n",
      "26 [u'his 92d Cong', u'the 80th Con', u'his 92d Cong', u'the 92d Cong', u'the 91st Con', u'the 92d Cong', u'ur 200th ann', u'the 92d Cong']\n",
      "27 [u'ust 15th I t', u'the 92nd Con', u'ts 200th bir', u'the 92nd Con']\n",
      "28 [u'the 98th Con', u'e 1980s.  TH', u'e 1970s that', u'e 1970s.  Th', u'e 1960s. I a', u'e 1960s have', u\"he '60s, inc\", u'the 93rd Con', u'e 1930s or e', u'e 1960s, may', u'e 1970s. The']\n",
      "29 [u'the 94th Con', u'his 81st Con', u'ur 200th ann']\n",
      "30 [u'the 94th Con']\n",
      "31 [u'the 95th Con']\n",
      "32 [u'd B-52s will']\n",
      "33 [u'the 96th Con', u'the 95th Con', u'the 96th Con', u'the 95th Con', u'the 95th Con', u'the 96th Con', u'the 96th Con', u'the 96th Con', u'the 20th Ann', u'the 95th Con', u'the 95th Con', u'the 95th Con', u'the 96th Con', u'the 96th Con', u'the 96th Con', u'the 18th Cen', u'the 19th, no', u'the 20th who']\n",
      "34 [u' the 2nd Ses', u'the 96th Con', u'the 95th Con', u'The 96th Con']\n",
      "35 [u'the 97th Con', u'the 96th Con', u'the 97th Con', u'the 96th Con', u'the 96th Con', u' the 2nd ses', u'the 96th Con']\n",
      "36 [u'uary 8th wil', u'ary 30th a d', u'rch 21st to ', u'ber 18th. We']\n",
      "37 [u'he 196th tim', u'the 20th cen', u'the 21st cen']\n",
      "38 [u'uary 1st, I ', u' the 2d Rang', u'on, 75th Inf']\n",
      "39 [u'May 22d to b']\n",
      "40 [u'the 10th and', u'ril 15th, th', u'the 20th cen', u'the 21st cen']\n",
      "41 [u'ic 100th Con', u'is 200th ann', u'is 100th Con', u'he 100th bir', u'is 100th Con', u'the 21st cen', u'he 100th Con', u'the 21st cen', u'the 38th par', u'ber 17th, 17']\n",
      "42 [u'ober 1st, no', u'ober 1st, no']\n",
      "43 [u'he 200th ann', u'uary 9th, 19']\n",
      "44 [u' the 4th, 8t', u'and 12th gra', u' the 1st Bat', u'on, 75th Ran', u'ber 18th, th', u'our 12th gra']\n",
      "45 [u'the 20th cen', u'the 21st cen', u'gust 2d, whe']\n",
      "46 [u'rch 20th. An', u'rch 20th. Fr']\n",
      "47 [u'the 21st cen', u'the 21st cen', u' the 4th yea']\n",
      "48 [u'he 103d Cong', u'ril 15th, th']\n",
      "49 [u'he 104th Con', u'he 104th Con', u'the 21st cen', u'10,000page p', u'ary 20th, 19']\n",
      "50 [u'he 104th Con']\n",
      "51 [u'he 105th Con', u'the 21st cen', u'the 21st cen', u'the 21st cen', u'the 13th and', u'the 21st cen', u'the 21st cen', u'the 21st cen', u'the 21st cen', u'the 21st cen', u'the 21st cen', u'ril 29th, wh', u'the 20th cen']\n",
      "52 [u'he 105th Con', u'the 20th cen', u'the 21st cen', u'the 21st cen', u'the 21st cen', u'the 21st cen', u't a 10point ', u'the 21st cen', u'the 21st cen', u'ese 21st cen', u'the 21st cen', u'the 21st cen', u'the 21st cen', u'arch 6th, at', u'the 21st cen', u'the 21st cen', u'the 22d cent', u'e a 21st cen', u'the 21st cen', u'the 21st cen']\n",
      "53 [u'the 21st cen', u'y\\u2014a 21st cen', u'for 21st cen', u'the 21st cen', u'the 21st cen', u'the 21st cen', u'the 21st cen', u'for 21st cen', u'ate 21st cen', u'the 21st cen', u'g a 21st cen', u'the 21st cen', u'led Y2K comp', u'his Y2K comp', u'the 20th cen', u'the 21st.  F', u'the 21st cen', u'for 21st cen', u'the 21st cen', u'd a 21st cen', u' a B-1B bomb', u'ger 21st cen', u'e a 21st cen', u'the 21st cen', u'the 20th cen', u'the 21st cen', u'the 21st cen', u'the 20th cen', u'n a 21st cen']\n",
      "54 [u'the 21st cen', u'e a 21st cen', u' To 21st cen', u'd a 21st cen', u'd a 21st cen', u'nd 401k plan', u'd a 21st cen', u'ach 21st cen', u'the 21st cen', u'and 21st cen', u'the 21st cen']\n",
      "55 [u'the 21st cen']\n",
      "56 [u'the 11th wer', u'the 11th, bu', u'the 11th bro', u'the 11th wil', u'the 11th. Ye']\n",
      "57 [u'the 11th att', u'the 11th, ou', u'the 20th cen', u'e 1990s, the', u'e 1990s, had', u'e 1990s that', u'the 11th, ma', u' the 5th to ']\n",
      "58 [u'the 11th, 20', u'the 11th, aw', u'the 11th bro', u'the 20th, 20', u'the 11th, it', u'the 21st Cen']\n",
      "59 [u'the 21st cen', u'the 20th cen', u'e 1990s, my ', u'the 11th, 20']\n",
      "60 [u'the 11th, 20', u'the 11th, ou', u'e 1970s. Wel']\n",
      "61 [u'the 41st mon', u'the 11th and', u'the 11th and']\n",
      "62 [u'he 110th Con', u'the 21st cen', u' the 1st. Th']\n",
      "63 [u'pril 1st. Be', u'the 21st cen', u'the 21st cen']\n",
      "64 [u'the 21st cen', u'e 1990s. Now', u'g a 21st-cen']\n",
      "65 [u'he 112th Con', u'the 21st cen', u'The 21st-cen']\n",
      "66 [u'e 1990s. Tog']\n",
      "68 [u'e 1990s; mor', u'the 21st cen', u'the 65th ann', u'his 10th dep']\n",
      "69 [u'the 20th cen', u'n a 21st-cen', u'eed 21st-cen', u'his 50th ann']\n",
      "70 [u'e 1990s, an ', u'g a 21st-cen', u'the 21st cen']\n",
      "71 [u'he 250th ann', u'ur 250th yea', u'he 250th yea', u'ur 100th ann', u\"'s 250th yea\"]\n"
     ]
    }
   ],
   "source": [
    "for i,doc in enumerate(documents_raw):\n",
    "    check = re.findall('<|>',doc)\n",
    "    if len(check): print i,check\n",
    "    check = re.findall('(.{5}[0-9][a-zA-Z].{5})',doc)\n",
    "    if len(check): print i,check"
   ]
  }
 ],
 "metadata": {
  "kernelspec": {
   "display_name": "Python 2",
   "language": "python",
   "name": "python2"
  },
  "language_info": {
   "codemirror_mode": {
    "name": "ipython",
    "version": 2
   },
   "file_extension": ".py",
   "mimetype": "text/x-python",
   "name": "python",
   "nbconvert_exporter": "python",
   "pygments_lexer": "ipython2",
   "version": "2.7.6"
  }
 },
 "nbformat": 4,
 "nbformat_minor": 0
}
