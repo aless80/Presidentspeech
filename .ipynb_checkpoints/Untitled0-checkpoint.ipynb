{
 "metadata": {
  "name": "",
  "signature": "sha256:298d622e1ed2f5a429496f72373d23a2cd97ab0b6e8879bafb9e315d95278f8f"
 },
 "nbformat": 3,
 "nbformat_minor": 0,
 "worksheets": [
  {
   "cells": [
    {
     "cell_type": "code",
     "collapsed": false,
     "input": [
      "# See Scrape notebook for the scraping. Import the messages stored in the documents list\n",
      "import pickle\n",
      "pkl_file = open('/home/amarin/Dropbox/IS/topicMDX.pkl', 'rb')\n",
      "metadata,desc,descwrc = pickle.load(pkl_file)\n"
     ],
     "language": "python",
     "metadata": {},
     "outputs": [],
     "prompt_number": 3
    },
    {
     "cell_type": "code",
     "collapsed": false,
     "input": [
      "#Create documents list with tokenized text\n",
      "# Tokenize\n",
      "from nltk.corpus import stopwords \n",
      "import string\n",
      "import re\n",
      "stop = set(stopwords.words('english')) #NB a set is more efficient than a list\n",
      "exclude = set(string.punctuation) \n",
      "from nltk.stem.porter import PorterStemmer\n",
      "from nltk.stem.wordnet import WordNetLemmatizer\n",
      "lemma = WordNetLemmatizer()\n",
      "#pstemmer = PorterStemmer()\n",
      "def clean_text(doc, skipWords=[]):\n",
      "    for w in skipWords:\n",
      "        doc = doc.replace(w,'')\n",
      "    #Remove non-letters and convert to lower case\n",
      "    #Remove non unicode (accents etc). Remove word that can starts with non letter and ends with non letter. \n",
      "    #\"1st\" \"a2\" \"1a3\" safe, \"1\" \"123\" esta' \" not\n",
      "    letters_only = re.sub(r'\\W|\\b\\w*\\d\\b', ' ', doc.lower())\n",
      "    #Split into individual words and remove stop words\n",
      "    #This can be done in TfidfVectorizer/CountVectorizer but ok..\n",
      "    stop_free = \" \".join([i for i in letters_only.split() if i not in stop])\n",
      "    #Remove punctuations should not be needed after letters_only but who knows\n",
      "    punc_free = ''.join(ch for ch in stop_free if ch not in exclude)\n",
      "    #Stemming/Lemmatizing\n",
      "    normalized = \" \".join(lemma.lemmatize(word) for word in punc_free.split())\n",
      "    return normalized\n",
      "documents = [clean_text(doc, skipWords=[]) for doc in desc]"
     ],
     "language": "python",
     "metadata": {},
     "outputs": [],
     "prompt_number": 7
    },
    {
     "cell_type": "code",
     "collapsed": false,
     "input": [
      "desc[15]"
     ],
     "language": "python",
     "metadata": {},
     "outputs": [
      {
       "metadata": {},
       "output_type": "pyout",
       "prompt_number": 26,
       "text": [
        "'Subject: \\tRE: WRC Problem 855542\\nDate: \\tMon, 1 Feb 2016 14:42:06 +0000\\nFrom: \\tSimcha Gershon <Simcha.Gershon@elad-health.com>\\nTo: \\t\\'Jonathan.Pham@intersystems.com\\' <Jonathan.Pham@intersystems.com>, \\'support@intersystems.com\\' <support@intersystems.com>\\nI have also another problem.\\nIn the BO I create (sending the email) I try to turn the Ens.Alerting.NotificationRequest into a %Stream.FileBinary\\n \\n set Nodename=##class(%SYS.System).GetNodeName()\\n         set Production=##class(Ens.Director).GetActiveProductionName()\\n         set FileName=Nodename_\"_\"_Production_\"_\"_$h\\n         SET FileName = FileName_\".xml\"\\n         set stream = ##class(%Stream.FileBinary).%New()\\n         set writer = ##class(%XML.Writer).%New()\\n         set writer.Charset=\"windows-1255\"\\n         set sc=writer.OutputToStream(.stream)\\n         If $$$ISERR(sc) Set pResponse.StringValue = $system.Status.GetErrorText(sc)\\n         set sc=writer.RootObject(pNotificationRequest,\"\",\"\",\"Ens.Alerting.NotificationRequest\")\\n         If $$$ISERR(sc) Set pResponse.StringValue = $system.Status.GetErrorText(sc)\\n \\n& then I do :               set status=tMailMessage.AttachStream(stream,FileName,0)\\nYet I don\\'t get any attachment to the email send to me .\\nI run with the debugger all through this process class : Class Elad.AlertManagment.BO.EmailAlertOperartion Extends EnsLib.EMail.AlertOperation\\nEverty thing looks ok , the stream is created & has size , including the set status=tMailMessage.AttachStream(stream,FileName,0) returns 1\\nYet there is no attachment.\\nWhat do I do wrong\\n \\nThanks Simcha\\n'"
       ]
      }
     ],
     "prompt_number": 26
    },
    {
     "cell_type": "code",
     "collapsed": false,
     "input": [
      "documents[15]"
     ],
     "language": "python",
     "metadata": {},
     "outputs": [
      {
       "metadata": {},
       "output_type": "pyout",
       "prompt_number": 25,
       "text": [
        "u'subject wrc problem date mon feb simcha gershon simcha gershon elad health com jonathan pham intersystems com jonathan pham intersystems com support intersystems com support intersystems com also another problem bo create sending email try turn en alerting notificationrequest stream filebinary set nodename class sys system getnodename set production class en director getactiveproductionname set filename nodename production h set filename filename xml set stream class stream filebinary new set writer class xml writer new set writer charset window set sc writer outputtostream stream iserr sc set presponse stringvalue system status geterrortext sc set sc writer rootobject pnotificationrequest en alerting notificationrequest iserr sc set presponse stringvalue system status geterrortext sc set status tmailmessage attachstream stream filename yet get attachment email send run debugger process class class elad alertmanagment bo emailalertoperartion extends enslib email alertoperation everty thing look ok stream created size including set status tmailmessage attachstream stream filename return yet attachment wrong thanks simcha'"
       ]
      }
     ],
     "prompt_number": 25
    },
    {
     "cell_type": "code",
     "collapsed": false,
     "input": [
      "re.sub(r'\\t|\\n|\\b[\\w.]*@[\\w.-]*\\.[\\w.-]*\\b', ' ', desc[5])\n",
      "re.sub(r'\\t|\\n|\\b[\\d:]{1,10}\\b', ' ', desc[5]) #10:11:12\n",
      "#re.sub(r\"(^[a-zA-Z0-9_.+-]+@[a-zA-Z0-9-]+\\.[a-zA-Z0-9-.]+$)\", ' ', desc[15])"
     ],
     "language": "python",
     "metadata": {},
     "outputs": [
      {
       "metadata": {},
       "output_type": "pyout",
       "prompt_number": 75,
       "text": [
        "'Hi We try to run D COMPILE^%RCOMPIL from a namespace other the %SYS and we get this error: LWK 2d1>D COMPILE^%RCOMPIL(\"A\",\"INT\") Compiling in namespace LWK at   ERROR # : Unknown status code:   (qualifier \\'/multicompile\\' does not exist) Error: <UNDEFINED>DecomposeStatus+ ^%occSystem *qstruct(\"displayerror\") LWK 2d1> Thanks in advance Adrian '"
       ]
      }
     ],
     "prompt_number": 75
    },
    {
     "cell_type": "code",
     "collapsed": false,
     "input": [
      "# does not exist, %SYS, <email@something.com>\\nTo"
     ],
     "language": "python",
     "metadata": {},
     "outputs": []
    }
   ],
   "metadata": {}
  }
 ]
}